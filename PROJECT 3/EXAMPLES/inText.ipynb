{
 "metadata": {
  "language_info": {
   "codemirror_mode": {
    "name": "ipython",
    "version": 3
   },
   "file_extension": ".py",
   "mimetype": "text/x-python",
   "name": "python",
   "nbconvert_exporter": "python",
   "pygments_lexer": "ipython3",
   "version": "3.8.8"
  },
  "orig_nbformat": 2,
  "kernelspec": {
   "name": "python3",
   "display_name": "Python 3.8.8 64-bit ('base': conda)"
  },
  "interpreter": {
   "hash": "536e8bbf9d5309c016010abbc851bee22c6d5ea4b8cca3f1e3b0615294519b20"
  }
 },
 "nbformat": 4,
 "nbformat_minor": 2,
 "cells": [
  {
   "source": [
    "import pandas as pd\n",
    "\n",
    "pand1 = pd.Series([1,2,3,4,5]) # This is a normal array\n",
    "pand2 = pd.Series([1,2,3,4,5], index=['one','two','three','four','five']) # This is an array with special indexes\n",
    "\n",
    "dic = {'one':1, 'two':2, 'three':3, 'four':4}\n",
    "pand3 = pd.Series(dic)\n",
    "\n",
    "print(pand1)\n",
    "print(pand2)\n",
    "print(pand3)\n",
    "###\n",
    "#OUTPUT\n",
    "#0    1\n",
    "#1    2\n",
    "#2    3\n",
    "#3    4\n",
    "#4    5\n",
    "#dtype: int64\n",
    "#one      1\n",
    "#two      2\n",
    "#three    3\n",
    "#four     4\n",
    "#five     5\n",
    "#dtype: int64\n",
    "#one      1\n",
    "#two      2\n",
    "#three    3\n",
    "#four     4\n",
    "#dtype: int64"
   ],
   "cell_type": "code",
   "metadata": {},
   "execution_count": null,
   "outputs": []
  },
  {
   "cell_type": "code",
   "execution_count": null,
   "metadata": {},
   "outputs": [],
   "source": [
    "import pandas as pd\n",
    "\n",
    "employees = ['Paul', 'Shelby', 'Josh', 'Phil', 'Steve']\n",
    "pay = [25.00, 15.75, 13.24, 10.11, 15]\n",
    "tenure = [10, 5, 7, 13, 45]\n",
    "\n",
    "employInfo = pd.DataFrame({'Employee':employees, 'pay':pay, 'Tenure':tenure})\n",
    "print(employInfo)"
   ]
  },
  {
   "cell_type": "code",
   "execution_count": null,
   "metadata": {},
   "outputs": [],
   "source": [
    "import pandas as pd\n",
    "\n",
    "employees = ['Paul', 'Shelby', 'Josh', 'Phil', 'Steve']\n",
    "pay = [25.00, 15.75, 13.24, 10.11, 15]\n",
    "tenure = [10, 5, 7, 13, 45]\n",
    "\n",
    "employInfo = pd.DataFrame({'Employee':employees, 'Pay':pay, 'Tenure':tenure})\n",
    "\n",
    "employInfo['RPY'] = (employInfo['Pay']-7.25)/employInfo['Tenure']\n",
    "\n",
    "print(employInfo.T) # This will print the transposed table\n",
    "#######################################################\n",
    "#              0       1         2      3         4\n",
    "#Employee   Paul  Shelby      Josh   Phil     Steve\n",
    "#Pay        25.0   15.75     13.24  10.11      15.0\n",
    "#Tenure       10       5         7     13        45\n",
    "#RPY       1.775     1.7  0.855714   0.22  0.172222"
   ]
  },
  {
   "cell_type": "code",
   "execution_count": null,
   "metadata": {},
   "outputs": [],
   "source": [
    "import pandas as pd;\n",
    "import numpy as np;\n",
    "\n",
    "myIndex = pd.Index(['a','b','c','d','e'])\n",
    "myIndex2 = pd.Index(['a','c','d'])\n",
    "ds1 = pd.Series(np.random.random(5), index=myIndex)\n",
    "ds2 = pd.Series([1,2,3], index=myIndex2)\n",
    "ds3 = pd.Series([0,1,2,3,4], index=myIndex)\n",
    "df = pd.DataFrame({'rand':ds1,'set':ds3}, index=myIndex)\n",
    "print(ds1+100)\n",
    "print('-------------')\n",
    "print(df+10)\n",
    "print('-------------')\n",
    "print(ds1+ds2)\n",
    "print('---------')\n",
    "print(ds1.add(ds2, fill_value=0))"
   ]
  },
  {
   "cell_type": "code",
   "execution_count": null,
   "metadata": {},
   "outputs": [],
   "source": [
    "import pandas as pd;\n",
    "import numpy as np;\n",
    "s1 = pd.Series([1,3,7,9], index=[310,332,209,199])\n",
    "s2 = pd.Series(['a','b','c','d'], index=[310,209,332,199])\n",
    "df = pd.DataFrame({'ONE':s1,'TWO':s2})\n",
    "print(df.sort_values('ONE'))\n",
    "print(df.sort_values('TWO'))\n",
    "print(df.sort_index())"
   ]
  },
  {
   "cell_type": "code",
   "execution_count": null,
   "metadata": {},
   "outputs": [],
   "source": [
    "import pandas as pd\n",
    "dex = pd.MultiIndex.from_tuples([('a',0),('a',1),('a',2),('b',2),('b',3)], names=['letter','nummber'])\n",
    "\n",
    "df = pd.DataFrame({'OS':['Mac', 'Windows',\"Linux\",\"Linux\",\"Windows\"], 'Failure':[True,False,True,False,True]},index = dex)\n",
    "\n",
    "print(df)\n",
    "print(df.sort_index(ascending=False))\n",
    "print(df.reset_index())"
   ]
  },
  {
   "cell_type": "code",
   "execution_count": 1,
   "metadata": {},
   "outputs": [
    {
     "output_type": "stream",
     "name": "stdout",
     "text": [
      "   Ones  Hundreds\na     0       100\nb     1       200\nc     2       300\nd     3       400\ne     4       500\n   variable  value\n0      Ones      0\n1      Ones      1\n2      Ones      2\n3      Ones      3\n4      Ones      4\n5  Hundreds    100\n6  Hundreds    200\n7  Hundreds    300\n8  Hundreds    400\n9  Hundreds    500\nHundreds  100  200  300  400  500\na         0.0  NaN  NaN  NaN  NaN\nb         NaN  1.0  NaN  NaN  NaN\nc         NaN  NaN  2.0  NaN  NaN\nd         NaN  NaN  NaN  3.0  NaN\ne         NaN  NaN  NaN  NaN  4.0\n"
     ]
    }
   ],
   "source": [
    "import pandas as pd;\n",
    "import numpy as np;\n",
    "idex = pd.Index(['a','b','c','d','e'])\n",
    "s1 = pd.Series(np.arange(5), idex)\n",
    "s2 = pd.Series([100,200,300,400,500], idex)\n",
    "df = pd.DataFrame({'Ones':s1, 'Hundreds':s2})\n",
    "print(df)\n",
    "print(pd.melt(df))\n",
    "print(df.pivot(columns='Hundreds', values='Ones'))"
   ]
  },
  {
   "cell_type": "code",
   "execution_count": null,
   "metadata": {},
   "outputs": [],
   "source": []
  },
  {
   "cell_type": "code",
   "execution_count": null,
   "metadata": {},
   "outputs": [],
   "source": []
  },
  {
   "cell_type": "code",
   "execution_count": 13,
   "metadata": {},
   "outputs": [
    {
     "output_type": "stream",
     "name": "stdout",
     "text": [
      "0    0\n1    1\n2    2\n3    3\n4    4\n5    5\ndtype: int64\n0    3.14\n1    7.19\n2    6.40\ndtype: float64\n   A     B\n0  0  3.14\n1  1  7.19\n2  2  6.40\n3  3   NaN\n4  4   NaN\n5  5   NaN\nWhere is A Greater than  3\n0     True\n1     True\n2     True\n3    False\n4    False\n5    False\ndtype: bool\nWhat Data is in those locations\n   A     B\n0  0  3.14\n1  1  7.19\n2  2  6.40\n"
     ]
    }
   ],
   "source": [
    "import pandas as pd;\n",
    "import numpy as np;\n",
    "s1 = pd.Series([0,1,2,3,4,5])\n",
    "s2 = pd.Series([3.14,7.19,6.4])\n",
    "value = 3\n",
    "print(s1); print(s2);\n",
    "df = pd.DataFrame({'A':s1,'B':s2})\n",
    "print(df)\n",
    "print(\"Where is A Greater than \", value)\n",
    "print(df.eval('(A < @value)'))\n",
    "print(\"What Data is in those locations\")\n",
    "print(df.query('A < @value'))\n"
   ]
  },
  {
   "cell_type": "code",
   "execution_count": 5,
   "metadata": {},
   "outputs": [
    {
     "output_type": "stream",
     "name": "stdout",
     "text": [
      "0      all\n1    these\n2      are\n3    lower\n4     case\ndtype: object\n0      All\n1    These\n2      Are\n3    Lower\n4     Case\ndtype: object\n0    O|M|C\n1    M|D|G\n2    S|D|D\ndtype: object\n   C  D  G  M  O  S\n0  1  0  0  1  1  0\n1  0  1  1  1  0  0\n2  0  1  0  0  0  1\n"
     ]
    }
   ],
   "source": [
    "import pandas as pd\n",
    "ds1 = pd.Series(['all', 'these', 'are', 'lower', 'case'])\n",
    "print(ds1)\n",
    "print(ds1.str.capitalize())\n",
    "ds2 = pd.Series(['O|M|C','M|D|G','S|D|D'])\n",
    "print(ds2)\n",
    "print(ds2.str.get_dummies())"
   ]
  },
  {
   "cell_type": "code",
   "execution_count": null,
   "metadata": {},
   "outputs": [],
   "source": []
  }
 ]
}