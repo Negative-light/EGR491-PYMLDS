{
 "metadata": {
  "language_info": {
   "codemirror_mode": {
    "name": "ipython",
    "version": 3
   },
   "file_extension": ".py",
   "mimetype": "text/x-python",
   "name": "python",
   "nbconvert_exporter": "python",
   "pygments_lexer": "ipython3",
   "version": "3.8.8"
  },
  "orig_nbformat": 2,
  "kernelspec": {
   "name": "python388jvsc74a57bd0536e8bbf9d5309c016010abbc851bee22c6d5ea4b8cca3f1e3b0615294519b20",
   "display_name": "Python 3.8.8 64-bit ('base': conda)"
  }
 },
 "nbformat": 4,
 "nbformat_minor": 2,
 "cells": [
  {
   "source": [
    "# Project Goal\n",
    "\n",
    "Show multiple methods and function on an set of arrays including data analysis."
   ],
   "cell_type": "markdown",
   "metadata": {}
  },
  {
   "cell_type": "code",
   "execution_count": 12,
   "metadata": {},
   "outputs": [],
   "source": [
    "import numpy as np\n"
   ]
  },
  {
   "cell_type": "code",
   "execution_count": 13,
   "metadata": {},
   "outputs": [],
   "source": [
    "def welcome():\n",
    "    print(\"This Project was produced by: Paul A. Pace\")\n",
    "    print(\"FOR: EGR491 Project 2 Summer 21 Mercer University\")"
   ]
  },
  {
   "cell_type": "code",
   "execution_count": 14,
   "metadata": {},
   "outputs": [],
   "source": [
    "def promt4array():\n",
    "    num1 = input(\"How many rows for your array\")\n",
    "    num2 = input(\"How many columns for your array\")\n",
    "    return (int(num1),int(num2))"
   ]
  },
  {
   "cell_type": "code",
   "execution_count": 15,
   "metadata": {},
   "outputs": [
    {
     "output_type": "stream",
     "name": "stdout",
     "text": [
      "This Project was produced by: Paul A. Pace\nFOR: EGR491 Project 2 Summer 21 Mercer University\n"
     ]
    }
   ],
   "source": [
    "welcome()\n",
    "arr1 = np.ones(promt4array())"
   ]
  },
  {
   "cell_type": "code",
   "execution_count": 16,
   "metadata": {},
   "outputs": [
    {
     "output_type": "stream",
     "name": "stdout",
     "text": [
      "This is your array: \n[[1. 1. 1. ... 1. 1. 1.]\n [1. 1. 1. ... 1. 1. 1.]\n [1. 1. 1. ... 1. 1. 1.]\n ...\n [1. 1. 1. ... 1. 1. 1.]\n [1. 1. 1. ... 1. 1. 1.]\n [1. 1. 1. ... 1. 1. 1.]]\napplying random value\n"
     ]
    }
   ],
   "source": [
    "print(\"This is your array: \")\n",
    "print(arr1)\n",
    "print(\"applying random value\")\n",
    "arr1 += np.random.randint(0,100, arr1.shape)"
   ]
  },
  {
   "cell_type": "code",
   "execution_count": 17,
   "metadata": {},
   "outputs": [
    {
     "output_type": "stream",
     "name": "stdout",
     "text": [
      "Evaluating your array\n[[21.  2. 80. ... 81. 50. 28.]\n [26. 43. 60. ... 31. 71. 37.]\n [ 4. 19. 63. ... 88. 95. 58.]\n ...\n [11.  2. 33. ... 60. 96. 25.]\n [92. 36. 92. ... 28. 64. 35.]\n [31. 13. 63. ...  7. 63. 66.]]\nThese values are over 50\n[[False False  True ...  True False False]\n [False False  True ... False  True False]\n [False False  True ...  True  True  True]\n ...\n [False False False ...  True  True False]\n [ True False  True ... False  True False]\n [False False  True ... False  True  True]]\nThe average value above 50 is  75.45380212591986\nIt looks a little sloppy lets fix that: \nThe sum of each column is: \n[ 126.  223.  304.  402.  494.  577.  681.  779.  860.  999. 1101. 1222.\n 1291. 1372. 1463. 1557. 1654. 1766. 1884. 1962. 2038. 2119. 2232. 2321.\n 2400. 2525. 2617. 2704. 2819. 2909. 3002. 3109. 3213. 3317. 3403. 3509.\n 3610. 3712. 3805. 3894. 4003. 4100. 4210. 4316. 4440. 4564. 4639. 4735.\n 4836. 4918.]\nThe Average Column Size is:  2494.72\n"
     ]
    }
   ],
   "source": [
    "print(\"Evaluating your array\")\n",
    "print(arr1)\n",
    "print(\"These values are over 50\")\n",
    "mskArr = arr1 > 50\n",
    "print(mskArr)\n",
    "\n",
    "print(\"The average value above 50 is \", arr1[mskArr].mean())\n",
    "\n",
    "print(\"It looks a little sloppy lets fix that: \")\n",
    "arr1 = np.sort(arr1, axis=1)\n",
    "\n",
    "print(\"The sum of each column is: \")\n",
    "print(arr1.sum(axis=0))\n",
    "print(\"The Average Column Size is: \", end=' ')\n",
    "print(arr1.sum(axis=1).mean())\n",
    "\n",
    "\n"
   ]
  },
  {
   "cell_type": "code",
   "execution_count": 18,
   "metadata": {},
   "outputs": [
    {
     "output_type": "stream",
     "name": "stdout",
     "text": [
      "Lets do some more: \n100.0 :MAX\n1.0 :MIN\n"
     ]
    }
   ],
   "source": [
    "print(\"Lets do some more: \")\n",
    "print(arr1.max(), \":MAX\")\n",
    "print(arr1.min(), \":MIN\")"
   ]
  },
  {
   "cell_type": "code",
   "execution_count": 19,
   "metadata": {},
   "outputs": [
    {
     "output_type": "stream",
     "name": "stdout",
     "text": [
      "-------------------\nnow let us do some boardcasting\n[[ 2.  4.  6. ... 44. 48. 48.]\n [ 1.  0.  0. ... 50. 50. 50.]\n [ 4.  6.  6. ... 48. 49. 51.]\n ...\n [ 1.  1.  0. ... 49. 48. 48.]\n [ 1.  3.  7. ... 48. 48. 49.]\n [ 1.  5.  4. ... 51. 50. 51.]]\n[[ 0.  1.  2. ... 47. 48. 49.]\n [ 0.  1.  2. ... 47. 48. 49.]\n [ 0.  1.  2. ... 47. 48. 49.]\n ...\n [ 0.  1.  2. ... 47. 48. 49.]\n [ 0.  1.  2. ... 47. 48. 49.]\n [ 0.  1.  2. ... 47. 48. 49.]]\n"
     ]
    }
   ],
   "source": [
    "print(\"-------------------\")\n",
    "print(\"now let us do some boardcasting\")\n",
    "arr2 = arr1 - np.arange(arr1.shape[0])\n",
    "print(arr2)\n",
    "print(arr1 - arr2) # This will print your column numbers"
   ]
  },
  {
   "cell_type": "code",
   "execution_count": 20,
   "metadata": {},
   "outputs": [
    {
     "output_type": "stream",
     "name": "stdout",
     "text": [
      "Some Advaced Indexing\n[47  4 11 13 13 32  6 23  0  3 41 15  6 35  2 42 23 37 48  1 27 47 22 46\n 21 13 24 42 31  6 48 30 10 26  1 31 34 40 29 10 11  6 21 14 13 34 17 17\n 32  1] \n [ 4 18 27 17 22 25 45  9 31 40 14 14 18 43  9 45  0  3 35  4  8  1  9 26\n  1 28 31 22 35  2 30 39 46 37  4 27 42 22 30 47 10 21 18 34  7 31 25 19\n 11 47]\nThe values at these locations are: \n[ 7. 51. 57. 39. 46. 46. 94. 21. 62. 68. 42. 22. 37. 76. 20. 95.  8.  6.\n 75.  4. 16.  2. 18. 61.  5. 65. 59. 52. 75.  3. 69. 82. 96. 74.  4. 61.\n 85. 53. 58. 99. 39. 46. 35. 72. 17. 64. 48. 33. 22. 97.]\n"
     ]
    }
   ],
   "source": [
    "print(\"Some Advaced Indexing\")\n",
    "arr3 = np.random.randint(0, arr1.shape[0]-1, arr1.shape[0])\n",
    "arr4 = np.random.randint(0, arr1.shape[1]-1, arr1.shape[1])\n",
    "print(arr3, \"\\n\", arr4)\n",
    "print(\"The values at these locations are: \")\n",
    "print(arr1[arr3,arr4])"
   ]
  },
  {
   "cell_type": "code",
   "execution_count": 22,
   "metadata": {},
   "outputs": [
    {
     "output_type": "stream",
     "name": "stdout",
     "text": [
      "And just for kicks lets make a graph:\nWe will print arr3 vs arr4\n"
     ]
    },
    {
     "output_type": "execute_result",
     "data": {
      "text/plain": [
       "<matplotlib.collections.PathCollection at 0x268194d42b0>"
      ]
     },
     "metadata": {},
     "execution_count": 22
    },
    {
     "output_type": "display_data",
     "data": {
      "text/plain": "<Figure size 432x288 with 1 Axes>",
      "image/svg+xml": "<?xml version=\"1.0\" encoding=\"utf-8\" standalone=\"no\"?>\r\n<!DOCTYPE svg PUBLIC \"-//W3C//DTD SVG 1.1//EN\"\r\n  \"http://www.w3.org/Graphics/SVG/1.1/DTD/svg11.dtd\">\r\n<!-- Created with matplotlib (https://matplotlib.org/) -->\r\n<svg height=\"248.518125pt\" version=\"1.1\" viewBox=\"0 0 372.751136 248.518125\" width=\"372.751136pt\" xmlns=\"http://www.w3.org/2000/svg\" xmlns:xlink=\"http://www.w3.org/1999/xlink\">\r\n <metadata>\r\n  <rdf:RDF xmlns:cc=\"http://creativecommons.org/ns#\" xmlns:dc=\"http://purl.org/dc/elements/1.1/\" xmlns:rdf=\"http://www.w3.org/1999/02/22-rdf-syntax-ns#\">\r\n   <cc:Work>\r\n    <dc:type rdf:resource=\"http://purl.org/dc/dcmitype/StillImage\"/>\r\n    <dc:date>2021-06-01T18:47:02.929063</dc:date>\r\n    <dc:format>image/svg+xml</dc:format>\r\n    <dc:creator>\r\n     <cc:Agent>\r\n      <dc:title>Matplotlib v3.3.4, https://matplotlib.org/</dc:title>\r\n     </cc:Agent>\r\n    </dc:creator>\r\n   </cc:Work>\r\n  </rdf:RDF>\r\n </metadata>\r\n <defs>\r\n  <style type=\"text/css\">*{stroke-linecap:butt;stroke-linejoin:round;}</style>\r\n </defs>\r\n <g id=\"figure_1\">\r\n  <g id=\"patch_1\">\r\n   <path d=\"M -0 248.518125 \r\nL 372.751136 248.518125 \r\nL 372.751136 0 \r\nL -0 0 \r\nz\r\n\" style=\"fill:none;\"/>\r\n  </g>\r\n  <g id=\"axes_1\">\r\n   <g id=\"patch_2\">\r\n    <path d=\"M 26.925 224.64 \r\nL 361.725 224.64 \r\nL 361.725 7.2 \r\nL 26.925 7.2 \r\nz\r\n\" style=\"fill:#ffffff;\"/>\r\n   </g>\r\n   <g id=\"PathCollection_1\">\r\n    <defs>\r\n     <path d=\"M 0 3 \r\nC 0.795609 3 1.55874 2.683901 2.12132 2.12132 \r\nC 2.683901 1.55874 3 0.795609 3 0 \r\nC 3 -0.795609 2.683901 -1.55874 2.12132 -2.12132 \r\nC 1.55874 -2.683901 0.795609 -3 0 -3 \r\nC -0.795609 -3 -1.55874 -2.683901 -2.12132 -2.12132 \r\nC -2.683901 -1.55874 -3 -0.795609 -3 0 \r\nC -3 0.795609 -2.683901 1.55874 -2.12132 2.12132 \r\nC -1.55874 2.683901 -0.795609 3 0 3 \r\nz\r\n\" id=\"m8cef012961\" style=\"stroke:#1f77b4;\"/>\r\n    </defs>\r\n    <g clip-path=\"url(#p509a88f4d5)\">\r\n     <use style=\"fill:#1f77b4;stroke:#1f77b4;\" x=\"340.165909\" xlink:href=\"#m8cef012961\" y=\"197.933153\"/>\r\n     <use style=\"fill:#1f77b4;stroke:#1f77b4;\" x=\"67.506818\" xlink:href=\"#m8cef012961\" y=\"139.051915\"/>\r\n     <use style=\"fill:#1f77b4;stroke:#1f77b4;\" x=\"111.893182\" xlink:href=\"#m8cef012961\" y=\"101.199691\"/>\r\n     <use style=\"fill:#1f77b4;stroke:#1f77b4;\" x=\"124.575\" xlink:href=\"#m8cef012961\" y=\"143.257718\"/>\r\n     <use style=\"fill:#1f77b4;stroke:#1f77b4;\" x=\"124.575\" xlink:href=\"#m8cef012961\" y=\"122.228704\"/>\r\n     <use style=\"fill:#1f77b4;stroke:#1f77b4;\" x=\"245.052273\" xlink:href=\"#m8cef012961\" y=\"109.611296\"/>\r\n     <use style=\"fill:#1f77b4;stroke:#1f77b4;\" x=\"80.188636\" xlink:href=\"#m8cef012961\" y=\"25.495242\"/>\r\n     <use style=\"fill:#1f77b4;stroke:#1f77b4;\" x=\"187.984091\" xlink:href=\"#m8cef012961\" y=\"176.904139\"/>\r\n     <use style=\"fill:#1f77b4;stroke:#1f77b4;\" x=\"42.143182\" xlink:href=\"#m8cef012961\" y=\"84.37648\"/>\r\n     <use style=\"fill:#1f77b4;stroke:#1f77b4;\" x=\"61.165909\" xlink:href=\"#m8cef012961\" y=\"46.524255\"/>\r\n     <use style=\"fill:#1f77b4;stroke:#1f77b4;\" x=\"302.120455\" xlink:href=\"#m8cef012961\" y=\"155.875126\"/>\r\n     <use style=\"fill:#1f77b4;stroke:#1f77b4;\" x=\"137.256818\" xlink:href=\"#m8cef012961\" y=\"155.875126\"/>\r\n     <use style=\"fill:#1f77b4;stroke:#1f77b4;\" x=\"80.188636\" xlink:href=\"#m8cef012961\" y=\"139.051915\"/>\r\n     <use style=\"fill:#1f77b4;stroke:#1f77b4;\" x=\"264.075\" xlink:href=\"#m8cef012961\" y=\"33.906847\"/>\r\n     <use style=\"fill:#1f77b4;stroke:#1f77b4;\" x=\"54.825\" xlink:href=\"#m8cef012961\" y=\"176.904139\"/>\r\n     <use style=\"fill:#1f77b4;stroke:#1f77b4;\" x=\"308.461364\" xlink:href=\"#m8cef012961\" y=\"25.495242\"/>\r\n     <use style=\"fill:#1f77b4;stroke:#1f77b4;\" x=\"187.984091\" xlink:href=\"#m8cef012961\" y=\"214.756364\"/>\r\n     <use style=\"fill:#1f77b4;stroke:#1f77b4;\" x=\"276.756818\" xlink:href=\"#m8cef012961\" y=\"202.138956\"/>\r\n     <use style=\"fill:#1f77b4;stroke:#1f77b4;\" x=\"346.506818\" xlink:href=\"#m8cef012961\" y=\"67.553269\"/>\r\n     <use style=\"fill:#1f77b4;stroke:#1f77b4;\" x=\"48.484091\" xlink:href=\"#m8cef012961\" y=\"197.933153\"/>\r\n     <use style=\"fill:#1f77b4;stroke:#1f77b4;\" x=\"213.347727\" xlink:href=\"#m8cef012961\" y=\"181.109942\"/>\r\n     <use style=\"fill:#1f77b4;stroke:#1f77b4;\" x=\"340.165909\" xlink:href=\"#m8cef012961\" y=\"210.550561\"/>\r\n     <use style=\"fill:#1f77b4;stroke:#1f77b4;\" x=\"181.643182\" xlink:href=\"#m8cef012961\" y=\"176.904139\"/>\r\n     <use style=\"fill:#1f77b4;stroke:#1f77b4;\" x=\"333.825\" xlink:href=\"#m8cef012961\" y=\"105.405493\"/>\r\n     <use style=\"fill:#1f77b4;stroke:#1f77b4;\" x=\"175.302273\" xlink:href=\"#m8cef012961\" y=\"210.550561\"/>\r\n     <use style=\"fill:#1f77b4;stroke:#1f77b4;\" x=\"124.575\" xlink:href=\"#m8cef012961\" y=\"96.993888\"/>\r\n     <use style=\"fill:#1f77b4;stroke:#1f77b4;\" x=\"194.325\" xlink:href=\"#m8cef012961\" y=\"84.37648\"/>\r\n     <use style=\"fill:#1f77b4;stroke:#1f77b4;\" x=\"308.461364\" xlink:href=\"#m8cef012961\" y=\"122.228704\"/>\r\n     <use style=\"fill:#1f77b4;stroke:#1f77b4;\" x=\"238.711364\" xlink:href=\"#m8cef012961\" y=\"67.553269\"/>\r\n     <use style=\"fill:#1f77b4;stroke:#1f77b4;\" x=\"80.188636\" xlink:href=\"#m8cef012961\" y=\"206.344758\"/>\r\n     <use style=\"fill:#1f77b4;stroke:#1f77b4;\" x=\"346.506818\" xlink:href=\"#m8cef012961\" y=\"88.582282\"/>\r\n     <use style=\"fill:#1f77b4;stroke:#1f77b4;\" x=\"232.370455\" xlink:href=\"#m8cef012961\" y=\"50.730058\"/>\r\n     <use style=\"fill:#1f77b4;stroke:#1f77b4;\" x=\"105.552273\" xlink:href=\"#m8cef012961\" y=\"21.289439\"/>\r\n     <use style=\"fill:#1f77b4;stroke:#1f77b4;\" x=\"207.006818\" xlink:href=\"#m8cef012961\" y=\"59.141663\"/>\r\n     <use style=\"fill:#1f77b4;stroke:#1f77b4;\" x=\"48.484091\" xlink:href=\"#m8cef012961\" y=\"197.933153\"/>\r\n     <use style=\"fill:#1f77b4;stroke:#1f77b4;\" x=\"238.711364\" xlink:href=\"#m8cef012961\" y=\"101.199691\"/>\r\n     <use style=\"fill:#1f77b4;stroke:#1f77b4;\" x=\"257.734091\" xlink:href=\"#m8cef012961\" y=\"38.11265\"/>\r\n     <use style=\"fill:#1f77b4;stroke:#1f77b4;\" x=\"295.779545\" xlink:href=\"#m8cef012961\" y=\"122.228704\"/>\r\n     <use style=\"fill:#1f77b4;stroke:#1f77b4;\" x=\"226.029545\" xlink:href=\"#m8cef012961\" y=\"88.582282\"/>\r\n     <use style=\"fill:#1f77b4;stroke:#1f77b4;\" x=\"105.552273\" xlink:href=\"#m8cef012961\" y=\"17.083636\"/>\r\n     <use style=\"fill:#1f77b4;stroke:#1f77b4;\" x=\"111.893182\" xlink:href=\"#m8cef012961\" y=\"172.698337\"/>\r\n     <use style=\"fill:#1f77b4;stroke:#1f77b4;\" x=\"80.188636\" xlink:href=\"#m8cef012961\" y=\"126.434507\"/>\r\n     <use style=\"fill:#1f77b4;stroke:#1f77b4;\" x=\"175.302273\" xlink:href=\"#m8cef012961\" y=\"139.051915\"/>\r\n     <use style=\"fill:#1f77b4;stroke:#1f77b4;\" x=\"130.915909\" xlink:href=\"#m8cef012961\" y=\"71.759072\"/>\r\n     <use style=\"fill:#1f77b4;stroke:#1f77b4;\" x=\"124.575\" xlink:href=\"#m8cef012961\" y=\"185.315745\"/>\r\n     <use style=\"fill:#1f77b4;stroke:#1f77b4;\" x=\"257.734091\" xlink:href=\"#m8cef012961\" y=\"84.37648\"/>\r\n     <use style=\"fill:#1f77b4;stroke:#1f77b4;\" x=\"149.938636\" xlink:href=\"#m8cef012961\" y=\"109.611296\"/>\r\n     <use style=\"fill:#1f77b4;stroke:#1f77b4;\" x=\"149.938636\" xlink:href=\"#m8cef012961\" y=\"134.846112\"/>\r\n     <use style=\"fill:#1f77b4;stroke:#1f77b4;\" x=\"245.052273\" xlink:href=\"#m8cef012961\" y=\"168.492534\"/>\r\n     <use style=\"fill:#1f77b4;stroke:#1f77b4;\" x=\"48.484091\" xlink:href=\"#m8cef012961\" y=\"17.083636\"/>\r\n    </g>\r\n   </g>\r\n   <g id=\"matplotlib.axis_1\">\r\n    <g id=\"xtick_1\">\r\n     <g id=\"line2d_1\">\r\n      <defs>\r\n       <path d=\"M 0 0 \r\nL 0 3.5 \r\n\" id=\"m220f6de93b\" style=\"stroke:#000000;stroke-width:0.8;\"/>\r\n      </defs>\r\n      <g>\r\n       <use style=\"stroke:#000000;stroke-width:0.8;\" x=\"42.143182\" xlink:href=\"#m220f6de93b\" y=\"224.64\"/>\r\n      </g>\r\n     </g>\r\n     <g id=\"text_1\">\r\n      <!-- 0 -->\r\n      <g transform=\"translate(38.961932 239.238437)scale(0.1 -0.1)\">\r\n       <defs>\r\n        <path d=\"M 31.78125 66.40625 \r\nQ 24.171875 66.40625 20.328125 58.90625 \r\nQ 16.5 51.421875 16.5 36.375 \r\nQ 16.5 21.390625 20.328125 13.890625 \r\nQ 24.171875 6.390625 31.78125 6.390625 \r\nQ 39.453125 6.390625 43.28125 13.890625 \r\nQ 47.125 21.390625 47.125 36.375 \r\nQ 47.125 51.421875 43.28125 58.90625 \r\nQ 39.453125 66.40625 31.78125 66.40625 \r\nz\r\nM 31.78125 74.21875 \r\nQ 44.046875 74.21875 50.515625 64.515625 \r\nQ 56.984375 54.828125 56.984375 36.375 \r\nQ 56.984375 17.96875 50.515625 8.265625 \r\nQ 44.046875 -1.421875 31.78125 -1.421875 \r\nQ 19.53125 -1.421875 13.0625 8.265625 \r\nQ 6.59375 17.96875 6.59375 36.375 \r\nQ 6.59375 54.828125 13.0625 64.515625 \r\nQ 19.53125 74.21875 31.78125 74.21875 \r\nz\r\n\" id=\"DejaVuSans-48\"/>\r\n       </defs>\r\n       <use xlink:href=\"#DejaVuSans-48\"/>\r\n      </g>\r\n     </g>\r\n    </g>\r\n    <g id=\"xtick_2\">\r\n     <g id=\"line2d_2\">\r\n      <g>\r\n       <use style=\"stroke:#000000;stroke-width:0.8;\" x=\"105.552273\" xlink:href=\"#m220f6de93b\" y=\"224.64\"/>\r\n      </g>\r\n     </g>\r\n     <g id=\"text_2\">\r\n      <!-- 10 -->\r\n      <g transform=\"translate(99.189773 239.238437)scale(0.1 -0.1)\">\r\n       <defs>\r\n        <path d=\"M 12.40625 8.296875 \r\nL 28.515625 8.296875 \r\nL 28.515625 63.921875 \r\nL 10.984375 60.40625 \r\nL 10.984375 69.390625 \r\nL 28.421875 72.90625 \r\nL 38.28125 72.90625 \r\nL 38.28125 8.296875 \r\nL 54.390625 8.296875 \r\nL 54.390625 0 \r\nL 12.40625 0 \r\nz\r\n\" id=\"DejaVuSans-49\"/>\r\n       </defs>\r\n       <use xlink:href=\"#DejaVuSans-49\"/>\r\n       <use x=\"63.623047\" xlink:href=\"#DejaVuSans-48\"/>\r\n      </g>\r\n     </g>\r\n    </g>\r\n    <g id=\"xtick_3\">\r\n     <g id=\"line2d_3\">\r\n      <g>\r\n       <use style=\"stroke:#000000;stroke-width:0.8;\" x=\"168.961364\" xlink:href=\"#m220f6de93b\" y=\"224.64\"/>\r\n      </g>\r\n     </g>\r\n     <g id=\"text_3\">\r\n      <!-- 20 -->\r\n      <g transform=\"translate(162.598864 239.238437)scale(0.1 -0.1)\">\r\n       <defs>\r\n        <path d=\"M 19.1875 8.296875 \r\nL 53.609375 8.296875 \r\nL 53.609375 0 \r\nL 7.328125 0 \r\nL 7.328125 8.296875 \r\nQ 12.9375 14.109375 22.625 23.890625 \r\nQ 32.328125 33.6875 34.8125 36.53125 \r\nQ 39.546875 41.84375 41.421875 45.53125 \r\nQ 43.3125 49.21875 43.3125 52.78125 \r\nQ 43.3125 58.59375 39.234375 62.25 \r\nQ 35.15625 65.921875 28.609375 65.921875 \r\nQ 23.96875 65.921875 18.8125 64.3125 \r\nQ 13.671875 62.703125 7.8125 59.421875 \r\nL 7.8125 69.390625 \r\nQ 13.765625 71.78125 18.9375 73 \r\nQ 24.125 74.21875 28.421875 74.21875 \r\nQ 39.75 74.21875 46.484375 68.546875 \r\nQ 53.21875 62.890625 53.21875 53.421875 \r\nQ 53.21875 48.921875 51.53125 44.890625 \r\nQ 49.859375 40.875 45.40625 35.40625 \r\nQ 44.1875 33.984375 37.640625 27.21875 \r\nQ 31.109375 20.453125 19.1875 8.296875 \r\nz\r\n\" id=\"DejaVuSans-50\"/>\r\n       </defs>\r\n       <use xlink:href=\"#DejaVuSans-50\"/>\r\n       <use x=\"63.623047\" xlink:href=\"#DejaVuSans-48\"/>\r\n      </g>\r\n     </g>\r\n    </g>\r\n    <g id=\"xtick_4\">\r\n     <g id=\"line2d_4\">\r\n      <g>\r\n       <use style=\"stroke:#000000;stroke-width:0.8;\" x=\"232.370455\" xlink:href=\"#m220f6de93b\" y=\"224.64\"/>\r\n      </g>\r\n     </g>\r\n     <g id=\"text_4\">\r\n      <!-- 30 -->\r\n      <g transform=\"translate(226.007955 239.238437)scale(0.1 -0.1)\">\r\n       <defs>\r\n        <path d=\"M 40.578125 39.3125 \r\nQ 47.65625 37.796875 51.625 33 \r\nQ 55.609375 28.21875 55.609375 21.1875 \r\nQ 55.609375 10.40625 48.1875 4.484375 \r\nQ 40.765625 -1.421875 27.09375 -1.421875 \r\nQ 22.515625 -1.421875 17.65625 -0.515625 \r\nQ 12.796875 0.390625 7.625 2.203125 \r\nL 7.625 11.71875 \r\nQ 11.71875 9.328125 16.59375 8.109375 \r\nQ 21.484375 6.890625 26.8125 6.890625 \r\nQ 36.078125 6.890625 40.9375 10.546875 \r\nQ 45.796875 14.203125 45.796875 21.1875 \r\nQ 45.796875 27.640625 41.28125 31.265625 \r\nQ 36.765625 34.90625 28.71875 34.90625 \r\nL 20.21875 34.90625 \r\nL 20.21875 43.015625 \r\nL 29.109375 43.015625 \r\nQ 36.375 43.015625 40.234375 45.921875 \r\nQ 44.09375 48.828125 44.09375 54.296875 \r\nQ 44.09375 59.90625 40.109375 62.90625 \r\nQ 36.140625 65.921875 28.71875 65.921875 \r\nQ 24.65625 65.921875 20.015625 65.03125 \r\nQ 15.375 64.15625 9.8125 62.3125 \r\nL 9.8125 71.09375 \r\nQ 15.4375 72.65625 20.34375 73.4375 \r\nQ 25.25 74.21875 29.59375 74.21875 \r\nQ 40.828125 74.21875 47.359375 69.109375 \r\nQ 53.90625 64.015625 53.90625 55.328125 \r\nQ 53.90625 49.265625 50.4375 45.09375 \r\nQ 46.96875 40.921875 40.578125 39.3125 \r\nz\r\n\" id=\"DejaVuSans-51\"/>\r\n       </defs>\r\n       <use xlink:href=\"#DejaVuSans-51\"/>\r\n       <use x=\"63.623047\" xlink:href=\"#DejaVuSans-48\"/>\r\n      </g>\r\n     </g>\r\n    </g>\r\n    <g id=\"xtick_5\">\r\n     <g id=\"line2d_5\">\r\n      <g>\r\n       <use style=\"stroke:#000000;stroke-width:0.8;\" x=\"295.779545\" xlink:href=\"#m220f6de93b\" y=\"224.64\"/>\r\n      </g>\r\n     </g>\r\n     <g id=\"text_5\">\r\n      <!-- 40 -->\r\n      <g transform=\"translate(289.417045 239.238437)scale(0.1 -0.1)\">\r\n       <defs>\r\n        <path d=\"M 37.796875 64.3125 \r\nL 12.890625 25.390625 \r\nL 37.796875 25.390625 \r\nz\r\nM 35.203125 72.90625 \r\nL 47.609375 72.90625 \r\nL 47.609375 25.390625 \r\nL 58.015625 25.390625 \r\nL 58.015625 17.1875 \r\nL 47.609375 17.1875 \r\nL 47.609375 0 \r\nL 37.796875 0 \r\nL 37.796875 17.1875 \r\nL 4.890625 17.1875 \r\nL 4.890625 26.703125 \r\nz\r\n\" id=\"DejaVuSans-52\"/>\r\n       </defs>\r\n       <use xlink:href=\"#DejaVuSans-52\"/>\r\n       <use x=\"63.623047\" xlink:href=\"#DejaVuSans-48\"/>\r\n      </g>\r\n     </g>\r\n    </g>\r\n    <g id=\"xtick_6\">\r\n     <g id=\"line2d_6\">\r\n      <g>\r\n       <use style=\"stroke:#000000;stroke-width:0.8;\" x=\"359.188636\" xlink:href=\"#m220f6de93b\" y=\"224.64\"/>\r\n      </g>\r\n     </g>\r\n     <g id=\"text_6\">\r\n      <!-- 50 -->\r\n      <g transform=\"translate(352.826136 239.238437)scale(0.1 -0.1)\">\r\n       <defs>\r\n        <path d=\"M 10.796875 72.90625 \r\nL 49.515625 72.90625 \r\nL 49.515625 64.59375 \r\nL 19.828125 64.59375 \r\nL 19.828125 46.734375 \r\nQ 21.96875 47.46875 24.109375 47.828125 \r\nQ 26.265625 48.1875 28.421875 48.1875 \r\nQ 40.625 48.1875 47.75 41.5 \r\nQ 54.890625 34.8125 54.890625 23.390625 \r\nQ 54.890625 11.625 47.5625 5.09375 \r\nQ 40.234375 -1.421875 26.90625 -1.421875 \r\nQ 22.3125 -1.421875 17.546875 -0.640625 \r\nQ 12.796875 0.140625 7.71875 1.703125 \r\nL 7.71875 11.625 \r\nQ 12.109375 9.234375 16.796875 8.0625 \r\nQ 21.484375 6.890625 26.703125 6.890625 \r\nQ 35.15625 6.890625 40.078125 11.328125 \r\nQ 45.015625 15.765625 45.015625 23.390625 \r\nQ 45.015625 31 40.078125 35.4375 \r\nQ 35.15625 39.890625 26.703125 39.890625 \r\nQ 22.75 39.890625 18.8125 39.015625 \r\nQ 14.890625 38.140625 10.796875 36.28125 \r\nz\r\n\" id=\"DejaVuSans-53\"/>\r\n       </defs>\r\n       <use xlink:href=\"#DejaVuSans-53\"/>\r\n       <use x=\"63.623047\" xlink:href=\"#DejaVuSans-48\"/>\r\n      </g>\r\n     </g>\r\n    </g>\r\n   </g>\r\n   <g id=\"matplotlib.axis_2\">\r\n    <g id=\"ytick_1\">\r\n     <g id=\"line2d_7\">\r\n      <defs>\r\n       <path d=\"M 0 0 \r\nL -3.5 0 \r\n\" id=\"m3d44a0a6b4\" style=\"stroke:#000000;stroke-width:0.8;\"/>\r\n      </defs>\r\n      <g>\r\n       <use style=\"stroke:#000000;stroke-width:0.8;\" x=\"26.925\" xlink:href=\"#m3d44a0a6b4\" y=\"214.756364\"/>\r\n      </g>\r\n     </g>\r\n     <g id=\"text_7\">\r\n      <!-- 0 -->\r\n      <g transform=\"translate(13.5625 218.555582)scale(0.1 -0.1)\">\r\n       <use xlink:href=\"#DejaVuSans-48\"/>\r\n      </g>\r\n     </g>\r\n    </g>\r\n    <g id=\"ytick_2\">\r\n     <g id=\"line2d_8\">\r\n      <g>\r\n       <use style=\"stroke:#000000;stroke-width:0.8;\" x=\"26.925\" xlink:href=\"#m3d44a0a6b4\" y=\"172.698337\"/>\r\n      </g>\r\n     </g>\r\n     <g id=\"text_8\">\r\n      <!-- 10 -->\r\n      <g transform=\"translate(7.2 176.497555)scale(0.1 -0.1)\">\r\n       <use xlink:href=\"#DejaVuSans-49\"/>\r\n       <use x=\"63.623047\" xlink:href=\"#DejaVuSans-48\"/>\r\n      </g>\r\n     </g>\r\n    </g>\r\n    <g id=\"ytick_3\">\r\n     <g id=\"line2d_9\">\r\n      <g>\r\n       <use style=\"stroke:#000000;stroke-width:0.8;\" x=\"26.925\" xlink:href=\"#m3d44a0a6b4\" y=\"130.640309\"/>\r\n      </g>\r\n     </g>\r\n     <g id=\"text_9\">\r\n      <!-- 20 -->\r\n      <g transform=\"translate(7.2 134.439528)scale(0.1 -0.1)\">\r\n       <use xlink:href=\"#DejaVuSans-50\"/>\r\n       <use x=\"63.623047\" xlink:href=\"#DejaVuSans-48\"/>\r\n      </g>\r\n     </g>\r\n    </g>\r\n    <g id=\"ytick_4\">\r\n     <g id=\"line2d_10\">\r\n      <g>\r\n       <use style=\"stroke:#000000;stroke-width:0.8;\" x=\"26.925\" xlink:href=\"#m3d44a0a6b4\" y=\"88.582282\"/>\r\n      </g>\r\n     </g>\r\n     <g id=\"text_10\">\r\n      <!-- 30 -->\r\n      <g transform=\"translate(7.2 92.381501)scale(0.1 -0.1)\">\r\n       <use xlink:href=\"#DejaVuSans-51\"/>\r\n       <use x=\"63.623047\" xlink:href=\"#DejaVuSans-48\"/>\r\n      </g>\r\n     </g>\r\n    </g>\r\n    <g id=\"ytick_5\">\r\n     <g id=\"line2d_11\">\r\n      <g>\r\n       <use style=\"stroke:#000000;stroke-width:0.8;\" x=\"26.925\" xlink:href=\"#m3d44a0a6b4\" y=\"46.524255\"/>\r\n      </g>\r\n     </g>\r\n     <g id=\"text_11\">\r\n      <!-- 40 -->\r\n      <g transform=\"translate(7.2 50.323474)scale(0.1 -0.1)\">\r\n       <use xlink:href=\"#DejaVuSans-52\"/>\r\n       <use x=\"63.623047\" xlink:href=\"#DejaVuSans-48\"/>\r\n      </g>\r\n     </g>\r\n    </g>\r\n   </g>\r\n   <g id=\"patch_3\">\r\n    <path d=\"M 26.925 224.64 \r\nL 26.925 7.2 \r\n\" style=\"fill:none;stroke:#000000;stroke-linecap:square;stroke-linejoin:miter;stroke-width:0.8;\"/>\r\n   </g>\r\n   <g id=\"patch_4\">\r\n    <path d=\"M 361.725 224.64 \r\nL 361.725 7.2 \r\n\" style=\"fill:none;stroke:#000000;stroke-linecap:square;stroke-linejoin:miter;stroke-width:0.8;\"/>\r\n   </g>\r\n   <g id=\"patch_5\">\r\n    <path d=\"M 26.925 224.64 \r\nL 361.725 224.64 \r\n\" style=\"fill:none;stroke:#000000;stroke-linecap:square;stroke-linejoin:miter;stroke-width:0.8;\"/>\r\n   </g>\r\n   <g id=\"patch_6\">\r\n    <path d=\"M 26.925 7.2 \r\nL 361.725 7.2 \r\n\" style=\"fill:none;stroke:#000000;stroke-linecap:square;stroke-linejoin:miter;stroke-width:0.8;\"/>\r\n   </g>\r\n  </g>\r\n </g>\r\n <defs>\r\n  <clipPath id=\"p509a88f4d5\">\r\n   <rect height=\"217.44\" width=\"334.8\" x=\"26.925\" y=\"7.2\"/>\r\n  </clipPath>\r\n </defs>\r\n</svg>\r\n",
      "image/png": "[encoded data removed]"
     },
     "metadata": {
      "needs_background": "light"
     }
    }
   ],
   "source": [
    "print(\"And just for kicks lets make a graph:\")\n",
    "print(\"We will print arr3 vs arr4\")\n",
    "import matplotlib.pyplot as plt\n",
    "plt.scatter(arr3, arr4)"
   ]
  },
  {
   "cell_type": "code",
   "execution_count": null,
   "metadata": {},
   "outputs": [],
   "source": []
  }
 ]
}