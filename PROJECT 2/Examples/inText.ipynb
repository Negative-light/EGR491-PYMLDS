{
 "metadata": {
  "language_info": {
   "codemirror_mode": {
    "name": "ipython",
    "version": 3
   },
   "file_extension": ".py",
   "mimetype": "text/x-python",
   "name": "python",
   "nbconvert_exporter": "python",
   "pygments_lexer": "ipython3",
   "version": "3.8.8"
  },
  "orig_nbformat": 2,
  "kernelspec": {
   "name": "python388jvsc74a57bd0536e8bbf9d5309c016010abbc851bee22c6d5ea4b8cca3f1e3b0615294519b20",
   "display_name": "Python 3.8.8 64-bit ('base': conda)"
  }
 },
 "nbformat": 4,
 "nbformat_minor": 2,
 "cells": [
  {
   "source": [
    "import numpy as np  # Import Numpy and give it a shorthand\n",
    "\n",
    "arr1 = np.array([1,5,7,33])              # Implicitly Typed integer array\n",
    "arr2 = np.array([1.0,5,7,33])             # Implicitly Typed float array\n",
    "arr3 = np.array([1,5,7,33], dtype='float') # Explicitly Typed float array\n",
    "print(arr1)\n",
    "print(arr2)\n",
    "print(arr3)\n",
    "\n",
    "## OUTPUT\n",
    "# [ 1  5  7 33]\n",
    "# [ 1.  5.  7. 33.]\n",
    "# [ 1.  5.  7. 33.]"
   ],
   "cell_type": "code",
   "metadata": {},
   "execution_count": null,
   "outputs": []
  },
  {
   "cell_type": "code",
   "execution_count": null,
   "metadata": {},
   "outputs": [],
   "source": [
    "import numpy as np\n",
    "\n",
    "#Regular Array\n",
    "arrPy = [range(i, i+5) for i in range(1,5)]\n",
    "print(arrPy)\n",
    "\n",
    "# Numpy Array\n",
    "arrNp = np.array([range(i, i+5) for i in range(1,5)])\n",
    "print(arrNp)\n",
    "\n",
    "##########\n",
    "# OUTPUT\n",
    "# [range(1, 6), range(2, 7), range(3, 8), range(4, 9)]\n",
    "# [[1 2 3 4 5]\n",
    "#  [2 3 4 5 6]\n",
    "#  [3 4 5 6 7]\n",
    "#  [4 5 6 7 8]]\n",
    "###########"
   ]
  },
  {
   "cell_type": "code",
   "execution_count": null,
   "metadata": {},
   "outputs": [],
   "source": [
    "import numpy as np\n",
    "validArr   = np.array([range(i-2,i+2) for i in range(2,5)])\n",
    "print(validArr)\n",
    "invalidArr = np.array([range(int(i/2),i*2) for i in range(2,5)])\n",
    "#ERROR ENCOUNTERED\n",
    "##################\n",
    "# OUTPUT\n",
    "#[[0 1 2 3]\n",
    "# [1 2 3 4]\n",
    "# [2 3 4 5]]\n",
    "#<ipython-input-4-4eeb350620f9>:4: VisibleDeprecationWarning: Creating an ndarray from ragged nested sequences (which is a list-or-tuple of lists-or-tuples-or ndarrays with different lengths or shapes) is deprecated. If you meant to do this, you must specify 'dtype=object' when creating the ndarray.\n",
    "#  invalidArr = np.array([range(int(i/2),i*2) for i in range(2,5)])\n",
    "##############################################################\n"
   ]
  },
  {
   "cell_type": "code",
   "execution_count": null,
   "metadata": {},
   "outputs": [],
   "source": [
    "import numpy as np\n",
    "dt = np.dtype({'names':('uName', 'uId', 'uEmail'),\n",
    "          'formats':('U10', 'i4', 'U20')})\n",
    "userData = np.zeros(3, dt)\n",
    "#Creates an Structured Array with terms 'name', 'id', and email which are a 16 charaters string, 32 bit int and 32 character string respectivly.\n",
    "userData['uName'] = ['Negative','Moon','Blue']\n",
    "userData['uId'] =   [1,2,3]\n",
    "userData['uEmail'] = ['Negative@gmail.com','Moon@gmail.com','Blue@gmail.com']\n",
    "#FILLS THE ARRAY\n",
    "\n",
    "print(userData['uName']) #Print all usernames\n",
    "print(userData[0]) #Print the first entry\n",
    "print(userData[-1]['uId']) # Print the Id of the last element\n",
    "\n",
    "######\n",
    "#OUTPUT\n",
    "#['Negative' 'Moon' 'Blue']\n",
    "#('Negative', 1, 'Negative@gmail.com')\n",
    "#3\n",
    "#######"
   ]
  },
  {
   "cell_type": "code",
   "execution_count": 10,
   "metadata": {},
   "outputs": [
    {
     "output_type": "stream",
     "name": "stdout",
     "text": [
      "[[32 76  1]\n [95 92 76]\n [30 75 63]]\n-----------------------------------------\n[[30 75  1]\n [32 76 63]\n [95 92 76]]\n-----------------------------------------\n[[ 1 32 76]\n [76 92 95]\n [30 63 75]]\n-----------------------------------------\n[[ 1 32 75]\n [30 63 76]\n [76 92 95]]\n-----------------------------------------\n[[ 1 30 75]\n [32 63 76]\n [76 92 95]]\n"
     ]
    }
   ],
   "source": [
    "import numpy as np\n",
    "arr1 = np.random.randint(0,100, (3,3))\n",
    "print(arr1)\n",
    "\n",
    "print('-----------------------------------------')\n",
    "# Sort along the colums\n",
    "print(np.sort(arr1, axis=0))\n",
    "print('-----------------------------------------')\n",
    "# Sort Along the Rows\n",
    "print(np.sort(arr1, axis=1))\n",
    "print('-----------------------------------------')\n",
    "# Sort whole Array by rows then columns\n",
    "print(np.sort(np.sort(arr1), axis=0))\n",
    "print('-----------------------------------------')\n",
    "# Sort whole Array by Columns then rows\n",
    "print(np.sort(np.sort(arr1, axis=0)))"
   ]
  },
  {
   "cell_type": "code",
   "execution_count": 26,
   "metadata": {},
   "outputs": [
    {
     "output_type": "stream",
     "name": "stdout",
     "text": [
      "[[0.67336848 0.17178476 0.94030908 0.15257246 0.74257853]\n [0.20917456 0.91132532 0.00736586 0.58191279 0.16805195]\n [0.27578636 0.41687174 0.61413864 0.53289707 0.02307563]\n [0.52531865 0.19114826 0.91523491 0.25310389 0.538879  ]\n [0.25670329 0.6615298  0.52004819 0.87967821 0.60668515]] \n [0.02603621 0.2391786  0.4240816  0.73169064 0.2876162 ]\n[1.94035134 2.35265989 2.99709668 2.40016442 2.07927027]\n[0.02603621 0.26521481 0.68929641 1.42098705 1.70860325]\n[2.68061332 1.87783048 1.86276944 2.42368471 2.92464464]\n11.769542595298107\n[1.02603621 1.03236332 1.04640234 1.08171302 1.1064282 ]\n0.2810060427591307\n0.05439174997540538\n2\n7\n"
     ]
    }
   ],
   "source": [
    "import numpy as np\n",
    "arr1 = np.random.random((5,5))\n",
    "arr2 = np.random.random(5)\n",
    "\n",
    "print(arr1,\"\\n\",arr2)\n",
    "#SUM\n",
    "print(np.add.reduce(arr1))\n",
    "print(np.add.accumulate(arr2))\n",
    "print(arr1.sum(axis=1))\n",
    "print(arr1.sum())\n",
    "arr2 += 1 # uFun to add 1 to all values of arr2 and reassign\n",
    "#POWER\n",
    "print(np.power.accumulate(arr2))\n",
    "# Stand Deviation and Varience\n",
    "print(arr1.std())\n",
    "print(arr2.var())\n",
    "# Index of max/min\n",
    "print(arr1.argmax()) # Is to find the mas of each sub array as this will print rowcolumne with no space\n",
    "print(arr1.argmin())"
   ]
  },
  {
   "cell_type": "code",
   "execution_count": 33,
   "metadata": {},
   "outputs": [
    {
     "output_type": "stream",
     "name": "stdout",
     "text": [
      "[0 1 2] \n [[1.]\n [1.]\n [1.]]\n[[1. 2. 3.]\n [1. 2. 3.]\n [1. 2. 3.]]\n"
     ]
    }
   ],
   "source": [
    "import numpy as np\n",
    "\n",
    "arr1 = np.arange(3)\n",
    "arr2 = np.ones(3)[:, np.newaxis] # Creates a column of ones\n",
    "print(arr1,\"\\n\",arr2)\n",
    "print(arr1 + arr2)"
   ]
  },
  {
   "cell_type": "code",
   "execution_count": null,
   "metadata": {},
   "outputs": [],
   "source": []
  }
 ]
}