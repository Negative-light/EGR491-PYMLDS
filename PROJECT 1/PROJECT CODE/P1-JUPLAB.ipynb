{
 "metadata": {
  "language_info": {
   "codemirror_mode": {
    "name": "ipython",
    "version": 3
   },
   "file_extension": ".py",
   "mimetype": "text/x-python",
   "name": "python",
   "nbconvert_exporter": "python",
   "pygments_lexer": "ipython3",
   "version": "3.8.8"
  },
  "orig_nbformat": 2,
  "kernelspec": {
   "name": "python388jvsc74a57bd0536e8bbf9d5309c016010abbc851bee22c6d5ea4b8cca3f1e3b0615294519b20",
   "display_name": "Python 3.8.8 64-bit ('base': conda)"
  }
 },
 "nbformat": 4,
 "nbformat_minor": 2,
 "cells": [
  {
   "cell_type": "code",
   "execution_count": 1,
   "metadata": {},
   "outputs": [],
   "source": [
    "import os.path\n",
    "def check4File(filePath):\n",
    "    return os.path.isfile(filePath)\n",
    "    "
   ]
  },
  {
   "cell_type": "code",
   "execution_count": 2,
   "metadata": {},
   "outputs": [],
   "source": [
    "def readFile(path):\n",
    "    f = open(path, \"r\")\n",
    "    output = \"\"\n",
    "    for l in f:\n",
    "        output += ','\n",
    "        output += str(l.strip())\n",
    "    output = output[1:]\n",
    "    return output"
   ]
  },
  {
   "cell_type": "code",
   "execution_count": 3,
   "metadata": {},
   "outputs": [],
   "source": [
    "def loadLst(strLst):\n",
    "    lst = []\n",
    "    for i in str(strLst).split(','):\n",
    "        try:\n",
    "            lst.append(int(i))\n",
    "        except:\n",
    "            print(\"INVALID VALUE: \", i)\n",
    "    \n",
    "    return lst\n",
    "    \n",
    "    "
   ]
  },
  {
   "cell_type": "code",
   "execution_count": 4,
   "metadata": {},
   "outputs": [
    {
     "output_type": "stream",
     "name": "stdout",
     "text": [
      "EGR491 Project 1: Paul A. Pace\nThis project is designed to display various simple attributes of python.\n"
     ]
    }
   ],
   "source": [
    "print(\"EGR491 Project 1: Paul A. Pace\")\n",
    "print(\"This project is designed to display various simple attributes of python.\")\n",
    "userData = input(\"Please input either a comma separated list OR a file path.\")"
   ]
  },
  {
   "cell_type": "code",
   "execution_count": 5,
   "metadata": {},
   "outputs": [
    {
     "output_type": "stream",
     "name": "stdout",
     "text": [
      "Reading From your file\n"
     ]
    }
   ],
   "source": [
    "if check4File(userData):\n",
    "    print(\"Reading From your file\")\n",
    "    userData = readFile(userData)\n",
    "else:\n",
    "    print(\"Reading List now!!!\")"
   ]
  },
  {
   "cell_type": "code",
   "execution_count": 6,
   "metadata": {},
   "outputs": [
    {
     "output_type": "stream",
     "name": "stdout",
     "text": [
      "1,2,3,4,5,6,7,8,9,1,7,9;3\n"
     ]
    }
   ],
   "source": [
    "print(userData)"
   ]
  },
  {
   "cell_type": "code",
   "execution_count": 7,
   "metadata": {},
   "outputs": [
    {
     "output_type": "stream",
     "name": "stdout",
     "text": [
      "INVALID VALUE:  9;3\nThe Sum of your list is  53\n"
     ]
    }
   ],
   "source": [
    "myList = loadLst(userData)\n",
    "\n",
    "m = 0\n",
    "for i in myList:\n",
    "    m += i\n",
    "print(\"The Sum of your list is \", m)"
   ]
  },
  {
   "cell_type": "code",
   "execution_count": 8,
   "metadata": {},
   "outputs": [
    {
     "output_type": "stream",
     "name": "stdout",
     "text": [
      "Your list without duplicates is  {1, 2, 3, 4, 5, 6, 7, 8, 9}\n"
     ]
    }
   ],
   "source": [
    "myList2 = {i for i in myList}\n",
    "print(\"Your list without duplicates is \", myList2)"
   ]
  },
  {
   "cell_type": "code",
   "execution_count": 9,
   "metadata": {},
   "outputs": [],
   "source": [
    "myList3 = [i for i in myList if i % 2 == 0]"
   ]
  },
  {
   "cell_type": "code",
   "execution_count": 10,
   "metadata": {},
   "outputs": [
    {
     "output_type": "stream",
     "name": "stdout",
     "text": [
      "[2, 4, 6, 8]\n"
     ]
    }
   ],
   "source": [
    "print(myList3)"
   ]
  },
  {
   "cell_type": "code",
   "execution_count": null,
   "metadata": {},
   "outputs": [],
   "source": []
  }
 ]
}